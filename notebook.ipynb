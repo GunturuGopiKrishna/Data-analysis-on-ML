{
 "cells": [
  {
   "cell_type": "code",
   "execution_count": 1,
   "metadata": {},
   "outputs": [],
   "source": [
    "#importing libraries\n",
    "from keras.models import Sequential\n",
    "from keras.layers import Dense\n",
    "from keras.layers import Convolution2D\n",
    "from keras.layers import MaxPooling2D\n",
    "from keras.layers import Flatten"
   ]
  },
  {
   "cell_type": "code",
   "execution_count": 2,
   "metadata": {},
   "outputs": [],
   "source": [
    "#initialize CNN model\n",
    "model=Sequential()"
   ]
  },
  {
   "cell_type": "code",
   "execution_count": 3,
   "metadata": {},
   "outputs": [],
   "source": [
    "#Add Convolutional Layer\n",
    "model.add(Convolution2D(32,3,3,input_shape=(128,128,3),activation=\"relu\"))"
   ]
  },
  {
   "cell_type": "code",
   "execution_count": 4,
   "metadata": {},
   "outputs": [],
   "source": [
    "#Add Pooling Layer\n",
    "model.add(MaxPooling2D(pool_size=(2,2)))\n",
    "model.add(Convolution2D(32,3,3,activation=\"relu\"))\n",
    "model.add(MaxPooling2D(pool_size=(2,2,)))\n",
    "model.add(Convolution2D(32,3,3,activation=\"relu\"))"
   ]
  },
  {
   "cell_type": "code",
   "execution_count": 5,
   "metadata": {},
   "outputs": [],
   "source": [
    "#Add Flattening Layer\n",
    "model.add(Flatten())"
   ]
  },
  {
   "cell_type": "code",
   "execution_count": 6,
   "metadata": {},
   "outputs": [],
   "source": [
    "#Add Hidden Layer\n",
    "model.add(Dense(256,kernel_initializer=\"uniform\",activation=\"relu\"))\n",
    "model.add(Dense(128,kernel_initializer=\"uniform\",activation=\"relu\"))"
   ]
  },
  {
   "cell_type": "code",
   "execution_count": 7,
   "metadata": {},
   "outputs": [],
   "source": [
    "#Add Output Layer\n",
    "model.add(Dense(4,kernel_initializer=\"uniform\",activation=\"relu\"))"
   ]
  },
  {
   "cell_type": "code",
   "execution_count": 8,
   "metadata": {},
   "outputs": [],
   "source": [
    "model.compile(loss=\"categorical_crossentropy\",optimizer=\"rmsprop\",metrics=['accuracy'])"
   ]
  },
  {
   "cell_type": "code",
   "execution_count": 9,
   "metadata": {},
   "outputs": [],
   "source": [
    "from keras.preprocessing.image import ImageDataGenerator\n",
    "\n",
    "train_datagen=ImageDataGenerator(\n",
    "                    rescale=1./255,\n",
    "                    shear_range=0.2,\n",
    "                    zoom_range=0.2,\n",
    "                    horizontal_flip=True)\n",
    "test_datagen=ImageDataGenerator(rescale=1./255)"
   ]
  },
  {
   "cell_type": "code",
   "execution_count": 11,
   "metadata": {},
   "outputs": [
    {
     "name": "stdout",
     "output_type": "stream",
     "text": [
      "Found 3840 images belonging to 4 classes.\n"
     ]
    }
   ],
   "source": [
    "#training the data\n",
    "x_train=train_datagen.flow_from_directory('C:/Users/91836/Documents/WBC Classification/data/train',\n",
    "                                         target_size=(128,128),\n",
    "                                         batch_size=32,\n",
    "                                         class_mode='categorical')"
   ]
  },
  {
   "cell_type": "code",
   "execution_count": 12,
   "metadata": {},
   "outputs": [
    {
     "name": "stdout",
     "output_type": "stream",
     "text": [
      "Found 960 images belonging to 4 classes.\n"
     ]
    }
   ],
   "source": [
    "#testing the data\n",
    "x_test=test_datagen.flow_from_directory('C:/Users/91836/Documents/WBC Classification/data/test',\n",
    "                                       target_size=(128,128),\n",
    "                                       batch_size=32,\n",
    "                                       class_mode='categorical')"
   ]
  },
  {
   "cell_type": "code",
   "execution_count": 13,
   "metadata": {},
   "outputs": [
    {
     "name": "stdout",
     "output_type": "stream",
     "text": [
      "Epoch 1/16\n",
      "120/120 [==============================] - 64s 516ms/step - loss: 8.1702 - accuracy: 0.2552 - val_loss: 4.5435 - val_accuracy: 0.4812\n",
      "Epoch 2/16\n",
      "120/120 [==============================] - 68s 570ms/step - loss: 4.7365 - accuracy: 0.4256 - val_loss: 4.6330 - val_accuracy: 0.4333\n",
      "Epoch 3/16\n",
      "120/120 [==============================] - 69s 576ms/step - loss: 4.7138 - accuracy: 0.4555 - val_loss: 4.4675 - val_accuracy: 0.6323\n",
      "Epoch 4/16\n",
      "120/120 [==============================] - 65s 540ms/step - loss: 4.7743 - accuracy: 0.5126 - val_loss: 4.4503 - val_accuracy: 0.6021\n",
      "Epoch 5/16\n",
      "120/120 [==============================] - 58s 487ms/step - loss: 4.5248 - accuracy: 0.5910 - val_loss: 4.3528 - val_accuracy: 0.6906\n",
      "Epoch 6/16\n",
      "120/120 [==============================] - 56s 469ms/step - loss: 4.5396 - accuracy: 0.6321 - val_loss: 4.2968 - val_accuracy: 0.6781\n",
      "Epoch 7/16\n",
      "120/120 [==============================] - 55s 460ms/step - loss: 4.3209 - accuracy: 0.6651 - val_loss: 4.2149 - val_accuracy: 0.7240\n",
      "Epoch 8/16\n",
      "120/120 [==============================] - 56s 467ms/step - loss: 4.4128 - accuracy: 0.6832 - val_loss: 4.4338 - val_accuracy: 0.6854\n",
      "Epoch 9/16\n",
      "120/120 [==============================] - 55s 461ms/step - loss: 4.3194 - accuracy: 0.6992 - val_loss: 5.5929 - val_accuracy: 0.5500\n",
      "Epoch 10/16\n",
      "120/120 [==============================] - 59s 494ms/step - loss: 4.3448 - accuracy: 0.6934 - val_loss: 0.6769 - val_accuracy: 0.7208\n",
      "Epoch 11/16\n",
      "120/120 [==============================] - 56s 467ms/step - loss: 0.9537 - accuracy: 0.7865 - val_loss: 0.4548 - val_accuracy: 0.8135\n",
      "Epoch 12/16\n",
      "120/120 [==============================] - 60s 502ms/step - loss: 0.7008 - accuracy: 0.8142 - val_loss: 1.5090 - val_accuracy: 0.8021\n",
      "Epoch 13/16\n",
      "120/120 [==============================] - 63s 529ms/step - loss: 0.7918 - accuracy: 0.8574 - val_loss: 0.3882 - val_accuracy: 0.9312\n",
      "Epoch 14/16\n",
      "120/120 [==============================] - 62s 513ms/step - loss: 0.7301 - accuracy: 0.8790 - val_loss: 2.8767 - val_accuracy: 0.7198\n",
      "Epoch 15/16\n",
      "120/120 [==============================] - 62s 515ms/step - loss: 1.2998 - accuracy: 0.8567 - val_loss: 0.4786 - val_accuracy: 0.8708\n",
      "Epoch 16/16\n",
      "120/120 [==============================] - 59s 495ms/step - loss: 1.6195 - accuracy: 0.8210 - val_loss: 0.3682 - val_accuracy: 0.9094\n"
     ]
    }
   ],
   "source": [
    "history=model.fit(x_train,\n",
    "                         steps_per_epoch = 120,\n",
    "                         epochs = 16,\n",
    "                         validation_data = x_test,\n",
    "                         validation_steps =30) \n",
    "\n",
    "model.save(\"projectWBC.h5\")"
   ]
  },
  {
   "cell_type": "code",
   "execution_count": 14,
   "metadata": {},
   "outputs": [
    {
     "data": {
      "text/plain": [
       "<matplotlib.legend.Legend at 0x1f64174fc70>"
      ]
     },
     "execution_count": 14,
     "metadata": {},
     "output_type": "execute_result"
    },
    {
     "data": {
      "image/png": "[encoded data removed]",
      "text/plain": [
       "<Figure size 432x288 with 1 Axes>"
      ]
     },
     "metadata": {
      "needs_background": "light"
     },
     "output_type": "display_data"
    },
    {
     "data": {
      "image/png": "[encoded data removed]",
      "text/plain": [
       "<Figure size 432x288 with 1 Axes>"
      ]
     },
     "metadata": {
      "needs_background": "light"
     },
     "output_type": "display_data"
    }
   ],
   "source": [
    "import matplotlib.pyplot as plt\n",
    "plt.figure(0)\n",
    "plt.plot(history.history['accuracy'],label='training accuracy')\n",
    "plt.plot(history.history['val_accuracy'],label='val accuracy')\n",
    "plt.title('Accuracy')\n",
    "plt.xlabel('Epochs')\n",
    "plt.ylabel('Accuracy')\n",
    "plt.legend()\n",
    "plt.figure(1)\n",
    "plt.plot(history.history['loss'],label='training loss')\n",
    "plt.plot(history.history['val_loss'],label='val loss')\n",
    "plt.title('Loss')\n",
    "plt.xlabel('epochs')\n",
    "plt.ylabel('loss')\n",
    "plt.legend()"
   ]
  },
  {
   "cell_type": "code",
   "execution_count": null,
   "metadata": {},
   "outputs": [],
   "source": []
  }
 ],
 "metadata": {
  "kernelspec": {
   "display_name": "Python 3",
   "language": "python",
   "name": "python3"
  },
  "language_info": {
   "codemirror_mode": {
    "name": "ipython",
    "version": 3
   },
   "file_extension": ".py",
   "mimetype": "text/x-python",
   "name": "python",
   "nbconvert_exporter": "python",
   "pygments_lexer": "ipython3",
   "version": "3.8.5"
  }
 },
 "nbformat": 4,
 "nbformat_minor": 4
}
