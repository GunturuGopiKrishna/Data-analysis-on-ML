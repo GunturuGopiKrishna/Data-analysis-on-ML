{
 "cells": [
  {
   "cell_type": "code",
   "execution_count": 5,
   "metadata": {},
   "outputs": [
    {
     "name": "stdout",
     "output_type": "stream",
     "text": [
      "EOSINOPHIL\n",
      "LYMPHOCYTE\n",
      "MONOCYTE\n",
      "NEUTROPHIL\n"
     ]
    }
   ],
   "source": [
    "import tkinter as tk\n",
    "from tkinter import *\n",
    "# import PIL\n",
    "from tkinter import filedialog\n",
    "from keras.models import load_model\n",
    "import numpy\n",
    "from PIL import Image, ImageTk\n",
    "# importing model\n",
    "model =load_model('projectWBC.h5')\n",
    "classes = {\n",
    "    0:'EOSINOPHIL',\n",
    "    1: 'LYMPHOCYTE', \n",
    "    2: 'MONOCYTE',\n",
    "    3: 'NEUTROPHIL'\n",
    "}\n",
    "def upload_image():\n",
    "    file_path = filedialog.askopenfilename()\n",
    "    uploaded = Image.open(file_path)\n",
    "    #uploaded.thumbnail(((top.winfo_width() / 2.25, (top.winfo_height() / 2.25))))\n",
    "    im = ImageTk.PhotoImage(uploaded)\n",
    "    sign_image.configure(image=im)\n",
    "    sign_image.image = im\n",
    "    label.configure(text=' ')\n",
    "    show_classify_button(file_path)\n",
    "def show_classify_button(file_path):\n",
    "    classify_btn = Button(top, text=\"Classify Image\", command=lambda: classify(file_path), padx=10, pady=5)\n",
    "    classify_btn.configure(background=\"#364156\", foreground=\"white\", font=('arial', 10, 'bold'))\n",
    "    classify_btn.place(relx=0.79, rely=0.46)\n",
    "def classify(file_path):\n",
    "    image = Image.open(file_path)\n",
    "    image = image.resize((128, 128))\n",
    "    image = numpy.expand_dims(image, axis=0)\n",
    "    image = numpy.array(image)\n",
    "    pred = model.predict_classes([image])[0]\n",
    "    sign = classes[pred]\n",
    "    print(sign)\n",
    "    label.configure(foreground='#011638', text=sign)\n",
    "# initialize GUI\n",
    "top = tk.Tk()  # calling the constructor or creating the object of tk class\n",
    "top.geometry('800x600')  # set height and width\n",
    "top.title(\"White Blood Cells Classification using CNN\")\n",
    "top.configure(background=\"#CDCDCD\")\n",
    "# set Heading\n",
    "heading = Label(top, text=\"Image Classifier\", pady=20, font=('arial', 20, 'bold'))\n",
    "heading.configure(background=\"#CDCDCD\", foreground='#364156')\n",
    "heading.pack()\n",
    "upload = Button(top, text=\"Upload an image\", command=upload_image, padx=10, pady=5)\n",
    "heading.configure(background=\"#364156\", foreground='white', font=('arial', 10, 'bold'))\n",
    "upload.pack(side=BOTTOM, pady=50)\n",
    "# upload image\n",
    "sign_image = Label(top)\n",
    "sign_image.pack(side=BOTTOM, expand=True)\n",
    "# predicted class\n",
    "label = Label(top, background=\"#CDCDCD\", font=('arial', 15, 'bold'))\n",
    "label.pack(side=BOTTOM, expand=True)\n",
    "top.mainloop()"
   ]
  },
  {
   "cell_type": "code",
   "execution_count": null,
   "metadata": {},
   "outputs": [],
   "source": []
  }
 ],
 "metadata": {
  "kernelspec": {
   "display_name": "Python 3",
   "language": "python",
   "name": "python3"
  },
  "language_info": {
   "codemirror_mode": {
    "name": "ipython",
    "version": 3
   },
   "file_extension": ".py",
   "mimetype": "text/x-python",
   "name": "python",
   "nbconvert_exporter": "python",
   "pygments_lexer": "ipython3",
   "version": "3.8.5"
  }
 },
 "nbformat": 4,
 "nbformat_minor": 4
}
